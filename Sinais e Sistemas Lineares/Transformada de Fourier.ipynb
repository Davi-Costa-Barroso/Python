{
  "cells": [
    {
      "cell_type": "code",
      "execution_count": 4,
      "metadata": {},
      "outputs": [],
      "source": [
        "# Davi Costa Barroso\n",
        "import sympy as sp\n",
        "import numpy as np\n",
        "import matplotlib.pyplot as plt\n",
        "from sympy import pi, plot, I\n",
        "t = sp.symbols('t')\n",
        "j = I"
      ]
    },
    {
      "cell_type": "code",
      "execution_count": 5,
      "metadata": {},
      "outputs": [
        {
          "data": {
            "text/latex": [
              "$\\displaystyle \\begin{cases} \\frac{\\left(\\left(2 - e^{i w}\\right) e^{i w} - 1\\right) e^{- i w}}{w^{2}} & \\text{for}\\: \\left(w > -\\infty \\vee w > 0\\right) \\wedge \\left(w > -\\infty \\vee w < \\infty\\right) \\wedge \\left(w > 0 \\vee w < 0\\right) \\wedge \\left(w < 0 \\vee w < \\infty\\right) \\\\1 & \\text{otherwise} \\end{cases}$"
            ],
            "text/plain": [
              "Piecewise((((2 - exp(I*w))*exp(I*w) - 1)*exp(-I*w)/w**2, ((w > -oo) | (w > 0)) & ((w > -oo) | (w < oo)) & ((w > 0) | (w < 0)) & ((w < 0) | (w < oo))), (1, True))"
            ]
          },
          "execution_count": 5,
          "metadata": {},
          "output_type": "execute_result"
        }
      ],
      "source": [
        "# Sinal x(t)\n",
        "x = sp.Piecewise((t+1, ((t>=-1)&(t<0))), (-t+1, ((t>=0)&(t<=1))))\n",
        "\n",
        "# Calcula a Transformada de Fourier do sinal x(t)\n",
        "w = sp.symbols('w', constant=True)\n",
        "wx = sp.integrate(x*(sp.exp(-j*w*t)), (t, -1, 1))\n",
        "\n",
        "# Mostra a transformada de forma simplificada\n",
        "wx.simplify()"
      ]
    },
    {
      "cell_type": "code",
      "execution_count": 6,
      "metadata": {},
      "outputs": [
        {
          "data": {
            "text/latex": [
              "$\\displaystyle 1.0$"
            ],
            "text/plain": [
              "1.00"
            ]
          },
          "execution_count": 6,
          "metadata": {},
          "output_type": "execute_result"
        }
      ],
      "source": [
        "# Calcula a Transformada de Fourier, mas com valores de omega\n",
        "wx = lambda w: sp.integrate(x*(sp.exp(-j*w*t)), (t, -1, 1))\n",
        "\n",
        "# Utilizando omega = 0\n",
        "wx(0).evalf(3)"
      ]
    }
  ],
  "metadata": {
    "colab": {
      "collapsed_sections": [],
      "name": "Transformada de Fourier.ipynb",
      "provenance": []
    },
    "kernelspec": {
      "display_name": "Python 3.10.0 64-bit",
      "language": "python",
      "name": "python3"
    },
    "language_info": {
      "codemirror_mode": {
        "name": "ipython",
        "version": 3
      },
      "file_extension": ".py",
      "mimetype": "text/x-python",
      "name": "python",
      "nbconvert_exporter": "python",
      "pygments_lexer": "ipython3",
      "version": "3.10.0"
    },
    "vscode": {
      "interpreter": {
        "hash": "41ad6ac23103138e432a8a8e657bd7f0811fe93d9ea581f5fcf52695560c7875"
      }
    }
  },
  "nbformat": 4,
  "nbformat_minor": 0
}
